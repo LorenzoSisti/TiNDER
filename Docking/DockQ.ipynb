{
  "nbformat": 4,
  "nbformat_minor": 0,
  "metadata": {
    "colab": {
      "provenance": []
    },
    "kernelspec": {
      "name": "python3",
      "display_name": "Python 3"
    },
    "language_info": {
      "name": "python"
    }
  },
  "cells": [
    {
      "cell_type": "code",
      "execution_count": null,
      "metadata": {
        "id": "rPHLotmt9xD6"
      },
      "outputs": [],
      "source": [
        "\n",
        "\n",
        "!pip install DockQ\n",
        "\n",
        "\n",
        "from DockQ.DockQ import load_PDB, run_on_all_native_interfaces\n",
        "\n",
        "#inserire qui i nomi delle cartelle contenti i file .pdb da confrontare\n",
        "\n",
        "native_folder_name = ''\n",
        "model_folder_name = ''\n",
        "\n",
        "#inserire il nome dei file da confrontare\n",
        "\n",
        "\n",
        "native = load_PDB(native_folder_name+'native_complex.pdb')\n",
        "model = load_PDB(model_folder_name+'model_complex.pdb')\n",
        "\n",
        "\n",
        "\n",
        "#controlla che le catene del complesso nativo abbiano lo stesso nome nel file del docking, in caso contrario modificare la seguente voce\n",
        "\n",
        "\n",
        "# native:model chain map dictionary for two interfaces\n",
        "chain_map = {\"A\":\"A\", \"B\":\"B\"}\n",
        "\n",
        "\n",
        "\n",
        "# returns a dictionary containing the results and the total DockQ score\n",
        "results=run_on_all_native_interfaces(model, native, chain_map=chain_map)\n",
        "\n",
        "Dock_Q=results[0]['AB']['DockQ']\n",
        "irmsd=results[0]['AB']['iRMSD']\n",
        "lrmsd=results[0]['AB']['LRMSD']\n",
        "fnatresults[0]['AB']['fnat']"
      ]
    }
  ]
}